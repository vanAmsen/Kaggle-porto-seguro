{
 "cells": [
  {
   "cell_type": "markdown",
   "metadata": {},
   "source": [
    "# Porto Seguro - A Second Submission."
   ]
  },
  {
   "cell_type": "code",
   "execution_count": 1,
   "metadata": {
    "collapsed": true
   },
   "outputs": [],
   "source": [
    "%matplotlib inline\n",
    "import pandas as pd\n",
    "from matplotlib import pyplot as plt\n",
    "\n",
    "import numpy as np\n",
    "import seaborn as sns\n",
    "\n",
    "from sklearn.metrics import roc_auc_score\n",
    "#import joypy\n",
    "import re\n",
    "#from IPython.display import display, HTML\n",
    "#import ipywidgets as widgets # for later\n",
    "\n",
    "\n",
    "pd.options.display.float_format = '{:.2f}'.format\n",
    "rc={'savefig.dpi': 75, 'figure.autolayout': False, 'figure.figsize': [12, 8], 'axes.labelsize': 12,\\\n",
    "   'axes.titlesize': 12, 'font.size': 12, 'lines.linewidth': 2.0, 'lines.markersize': 8, 'legend.fontsize': 12,\\\n",
    "   'xtick.labelsize': 12, 'ytick.labelsize': 12}\n",
    "\n",
    "sns.set(style=\"darkgrid\", color_codes=True,rc=rc)"
   ]
  },
  {
   "cell_type": "code",
   "execution_count": 108,
   "metadata": {},
   "outputs": [],
   "source": [
    "train = pd.read_csv('train.csv')\n",
    "test = pd.read_csv('test.csv')\n",
    "train.replace(to_replace=-1,value=-999,inplace=True) # replace value for nan\n",
    "test.replace(to_replace=-1,value=-999,inplace=True) # replace value for nan"
   ]
  },
  {
   "cell_type": "code",
   "execution_count": 109,
   "metadata": {
    "collapsed": true
   },
   "outputs": [],
   "source": [
    "def MetaDataTypes(df,types_var=['cat','bin','target']):\n",
    "    # Classifying the variables in the data\n",
    "    variables = []\n",
    "    vartype = {}\n",
    "    for variable in df.columns:\n",
    "        for types in types_var:\n",
    "            ty = \"None\"\n",
    "            if df[variable].dtype == int:\n",
    "                tybin = \"ordinal\"\n",
    "            elif df[variable].dtype == float:\n",
    "                tybin = \"continuous\"\n",
    "            match = re.search('^.*'+types+'.*$',variable)\n",
    "            if match:\n",
    "                ty = types\n",
    "                if re.search('^.*bin.*$',variable):\n",
    "                    tybin='binary'\n",
    "                if re.search('^.*cat.*$',variable):\n",
    "                    tybin='categorical'\n",
    "                if 'target' in variable:\n",
    "                    tybin = 'binary'\n",
    "                break\n",
    "\n",
    "            \n",
    "        variables.append([variable,ty,tybin])\n",
    "        \n",
    "    variablesdf = pd.DataFrame(variables,columns=['name','type','bin'])\n",
    "    \n",
    "    for i in ['ordinal','continuous','binary','categorical']:\n",
    "        vartype[i]=variablesdf.name[(variablesdf.bin==i)]\n",
    "\n",
    "    # Creating dataframe containing variables\n",
    "    return variablesdf,vartype"
   ]
  },
  {
   "cell_type": "code",
   "execution_count": 110,
   "metadata": {
    "collapsed": true
   },
   "outputs": [],
   "source": [
    "types_var = ['ind','reg','car', 'calc','target','id']\n",
    "variablesdf,vartype = MetaDataTypes(train,types_var)"
   ]
  },
  {
   "cell_type": "markdown",
   "metadata": {},
   "source": [
    "## Transforming categorical variables"
   ]
  },
  {
   "cell_type": "markdown",
   "metadata": {},
   "source": [
    "### 1. One-Hot Enconding for some Categorical Variables"
   ]
  },
  {
   "cell_type": "code",
   "execution_count": 111,
   "metadata": {
    "collapsed": true
   },
   "outputs": [],
   "source": [
    "# My own function - It is less efficient\n",
    "\n",
    "def Create_OHE(dataframe,variables,limit):\n",
    "    df = dataframe.copy()\n",
    "    for variable in variables:\n",
    "        if len(pd.unique(df[variable])) < limit and len(pd.unique(df[variable])) > 2:\n",
    "            columnsv = [variable + '_ohe' + str(value) for value in pd.unique(df[variable]).tolist()]\n",
    "            dummy = pd.get_dummies(df[variable])\n",
    "            dummy.columns = columnsv\n",
    "            df = df.drop(variable,axis=1).copy().join(dummy)\n",
    "            #print(variable,columnsv)\n",
    "            \n",
    "        else:\n",
    "            pass\n",
    "    return df"
   ]
  },
  {
   "cell_type": "code",
   "execution_count": 112,
   "metadata": {
    "collapsed": true
   },
   "outputs": [],
   "source": [
    "train_ohe = Create_OHE(train,vartype['categorical'].values,6)\n",
    "#Create_OHE(traindrop,traindrop.columns,5)"
   ]
  },
  {
   "cell_type": "code",
   "execution_count": 113,
   "metadata": {
    "collapsed": true
   },
   "outputs": [],
   "source": [
    "test_ohe = Create_OHE(test,vartype['categorical'].values,6)"
   ]
  },
  {
   "cell_type": "markdown",
   "metadata": {},
   "source": [
    "### 3. Cross-Validation"
   ]
  },
  {
   "cell_type": "code",
   "execution_count": 116,
   "metadata": {
    "collapsed": true
   },
   "outputs": [],
   "source": [
    "# Code from https://github.com/felipeeeantunes/udacity_live\n",
    "# The comments are mine\n",
    "def cross_val_model(X,y, model, n_splits=3):\n",
    "    from sklearn.model_selection import StratifiedKFold\n",
    "    from sklearn.model_selection import cross_val_score\n",
    "    X = np.array(X)\n",
    "    y = np.array(y)\n",
    "\n",
    "\n",
    "    folds = list(StratifiedKFold(n_splits=n_splits, shuffle=True, random_state=2017).split(X, y))\n",
    "    # folds are a list of the indexes that were divided in the training subsection and the hold-out.\n",
    "\n",
    "    for j, (train_idx, test_idx) in enumerate(folds):\n",
    "        X_train = X[train_idx] #train_idx are the indexes of the training subset\n",
    "        y_train = y[train_idx] \n",
    "        X_holdout = X[test_idx]\n",
    "        y_holdout = y[test_idx]\n",
    "\n",
    "        print (\"Fit %s fold %d\" % (str(model).split('(')[0], j+1))\n",
    "        \n",
    "        cross_score = cross_val_score(model, X_holdout, y_holdout, cv=3, scoring='roc_auc')\n",
    "        print(\"    cross_score: %.5f\" % cross_score.mean())\n",
    "    model.fit(X_train, y_train)"
   ]
  },
  {
   "cell_type": "markdown",
   "metadata": {},
   "source": [
    "### XGBoost"
   ]
  },
  {
   "cell_type": "code",
   "execution_count": 117,
   "metadata": {},
   "outputs": [],
   "source": [
    "from xgboost import XGBClassifier"
   ]
  },
  {
   "cell_type": "code",
   "execution_count": 118,
   "metadata": {
    "collapsed": true
   },
   "outputs": [],
   "source": [
    "# XGBoost params\n",
    "''' Initial\n",
    "xgb_params = {}\n",
    "xgb_params['learning_rate'] = 0.02\n",
    "xgb_params['n_estimators'] = 200\n",
    "xgb_params['max_depth'] = 4\n",
    "xgb_params['subsample'] = 0.8\n",
    "xgb_params['colsample_bytree'] = 0.8\n",
    "'''\n",
    "xgb_params = {}\n",
    "xgb_params['missing'] = -999\n",
    "xgb_params['learning_rate'] = 0.2\n",
    "# xgb_params['learning_rate'] = 0.012983377237040745\n",
    "xgb_params['n_estimators'] = 75\n",
    "# xgb_params['n_estimators'] = 750\n",
    "xgb_params['max_depth'] = 6\n",
    "xgb_params['reg_alpha'] = 6.037927795611329e-05\n",
    "xgb_params['reg_lambda'] = 7.3327894939712616e-06\n",
    "xgb_params['colsample_bytree'] = 0.6013536865241922 \n",
    "xgb_params['min_child_weight'] = 0.6020963925048413"
   ]
  },
  {
   "cell_type": "code",
   "execution_count": 119,
   "metadata": {},
   "outputs": [],
   "source": [
    "XGB_model = XGBClassifier(**xgb_params)"
   ]
  },
  {
   "cell_type": "code",
   "execution_count": 120,
   "metadata": {
    "collapsed": true
   },
   "outputs": [],
   "source": [
    "X = train.drop('target',axis=1)\n",
    "y = train['target']"
   ]
  },
  {
   "cell_type": "code",
   "execution_count": 121,
   "metadata": {
    "scrolled": false
   },
   "outputs": [
    {
     "name": "stdout",
     "output_type": "stream",
     "text": [
      "Fit XGBClassifier fold 1\n",
      "    cross_score: 0.57508\n",
      "Fit XGBClassifier fold 2\n",
      "    cross_score: 0.53848\n",
      "Fit XGBClassifier fold 3\n",
      "    cross_score: 0.54108\n"
     ]
    }
   ],
   "source": [
    "cross_val_model(X, y, XGB_model)"
   ]
  },
  {
   "cell_type": "code",
   "execution_count": 89,
   "metadata": {},
   "outputs": [
    {
     "data": {
      "text/plain": [
       "XGBClassifier(base_score=0.5, colsample_bylevel=1,\n",
       "       colsample_bytree=0.6013536865241922, gamma=0, learning_rate=0.2,\n",
       "       max_delta_step=0, max_depth=6, min_child_weight=0.6020963925048413,\n",
       "       missing=None, n_estimators=75, nthread=-1,\n",
       "       objective='binary:logistic', reg_alpha=6.037927795611329e-05,\n",
       "       reg_lambda=7.3327894939712616e-06, scale_pos_weight=1, seed=0,\n",
       "       silent=True, subsample=1)"
      ]
     },
     "execution_count": 89,
     "metadata": {},
     "output_type": "execute_result"
    }
   ],
   "source": [
    "X = np.array(X)\n",
    "y = np.array(y)\n",
    "XGB_model.fit(X,y)"
   ]
  },
  {
   "cell_type": "code",
   "execution_count": 90,
   "metadata": {},
   "outputs": [],
   "source": [
    "yscores = XGB_model.predict_proba(np.array(X))[:,1]\n",
    "results = pd.DataFrame(data=yscores,columns=['score'])\n",
    "results['target'] = y\n",
    "results['targetpredict'] = results.score.apply(lambda x: 0 if x<0.1 else 1)"
   ]
  },
  {
   "cell_type": "code",
   "execution_count": 91,
   "metadata": {
    "scrolled": false
   },
   "outputs": [
    {
     "data": {
      "text/plain": [
       "<matplotlib.axes._subplots.AxesSubplot at 0x7f6599339470>"
      ]
     },
     "execution_count": 91,
     "metadata": {},
     "output_type": "execute_result"
    },
    {
     "data": {
      "image/png": "[encoded data removed]",
      "text/plain": [
       "<matplotlib.figure.Figure at 0x7f659936f0b8>"
      ]
     },
     "metadata": {},
     "output_type": "display_data"
    }
   ],
   "source": [
    "sns.distplot(results.score[results.target == 1],norm_hist=True,kde=False)\n",
    "sns.distplot(results.score[results.target == 0],norm_hist=True,kde=False)"
   ]
  },
  {
   "cell_type": "code",
   "execution_count": 92,
   "metadata": {
    "collapsed": true
   },
   "outputs": [],
   "source": [
    "from sklearn.metrics import roc_curve"
   ]
  },
  {
   "cell_type": "code",
   "execution_count": 93,
   "metadata": {
    "collapsed": true
   },
   "outputs": [],
   "source": [
    "fpr, tpr, thresholds  = roc_curve(y,yscores)\n"
   ]
  },
  {
   "cell_type": "code",
   "execution_count": 103,
   "metadata": {},
   "outputs": [
    {
     "data": {
      "text/plain": [
       "[<matplotlib.lines.Line2D at 0x7f6598c62b38>]"
      ]
     },
     "execution_count": 103,
     "metadata": {},
     "output_type": "execute_result"
    },
    {
     "data": {
      "image/png": "[encoded data removed]",
      "text/plain": [
       "<matplotlib.figure.Figure at 0x7f6598c62a90>"
      ]
     },
     "metadata": {},
     "output_type": "display_data"
    }
   ],
   "source": [
    "plt.plot(fpr,tpr)\n",
    "plt.plot([0,1],[0,1])"
   ]
  }
 ],
 "metadata": {
  "kernelspec": {
   "display_name": "Python (machinepy3)",
   "language": "python",
   "name": "machinepy3"
  },
  "language_info": {
   "codemirror_mode": {
    "name": "ipython",
    "version": 3
   },
   "file_extension": ".py",
   "mimetype": "text/x-python",
   "name": "python",
   "nbconvert_exporter": "python",
   "pygments_lexer": "ipython3",
   "version": "3.5.2"
  }
 },
 "nbformat": 4,
 "nbformat_minor": 2
}
