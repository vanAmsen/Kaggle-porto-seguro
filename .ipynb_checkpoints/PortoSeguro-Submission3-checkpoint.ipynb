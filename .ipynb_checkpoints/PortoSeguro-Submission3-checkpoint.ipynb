{
 "cells": [
  {
   "cell_type": "markdown",
   "metadata": {},
   "source": [
    "# Data Preparation"
   ]
  },
  {
   "cell_type": "markdown",
   "metadata": {},
   "source": [
    "This notebook is used to do some data preparation for the models. We will create some scripts to be used in the other notebooks."
   ]
  },
  {
   "cell_type": "code",
   "execution_count": 1,
   "metadata": {
    "collapsed": true
   },
   "outputs": [],
   "source": [
    "%matplotlib inline\n",
    "import pandas as pd\n",
    "from matplotlib import pyplot as plt\n",
    "\n",
    "import numpy as np\n",
    "import seaborn as sns\n",
    "\n",
    "#import joypy\n",
    "import re\n",
    "#from IPython.display import display, HTML\n",
    "#import ipywidgets as widgets # for later\n",
    "\n",
    "\n",
    "\n",
    "sns.set(style=\"darkgrid\", color_codes=True)\n",
    "pd.options.display.float_format = '{:.3f}'.format"
   ]
  },
  {
   "cell_type": "code",
   "execution_count": 2,
   "metadata": {
    "collapsed": true
   },
   "outputs": [],
   "source": [
    "train = pd.read_csv('train.csv')"
   ]
  },
  {
   "cell_type": "code",
   "execution_count": 3,
   "metadata": {
    "collapsed": true
   },
   "outputs": [],
   "source": [
    "# My own function - It is less efficient\n",
    "\n",
    "def Create_OHE(dataframe,variables,limit):\n",
    "    df = dataframe.copy()\n",
    "    for variable in variables:\n",
    "        if len(pd.unique(df[variable])) < limit and len(pd.unique(df[variable])) > 2:\n",
    "            columnsv = [variable + '_ohe' + str(value) for value in pd.unique(df[variable]).tolist()]\n",
    "            dummy = pd.get_dummies(df[variable])\n",
    "            dummy.columns = columnsv\n",
    "            df = df.drop(variable,axis=1).copy().join(dummy)\n",
    "            #print(variable,columnsv)\n",
    "            \n",
    "        else:\n",
    "            pass\n",
    "    return df"
   ]
  },
  {
   "cell_type": "code",
   "execution_count": 4,
   "metadata": {
    "collapsed": true
   },
   "outputs": [],
   "source": [
    "def MetaDataTypes(df,types_var=['cat','bin','target']):\n",
    "    # Classifying the variables in the data\n",
    "    variables = []\n",
    "    vartype = {}\n",
    "    for variable in df.columns:\n",
    "        for types in types_var:\n",
    "            ty = \"None\"\n",
    "            if df[variable].dtype == int:\n",
    "                tybin = \"ordinal\"\n",
    "            elif df[variable].dtype == float:\n",
    "                tybin = \"continuous\"\n",
    "            match = re.search('^.*'+types+'.*$',variable)\n",
    "            if match:\n",
    "                ty = types\n",
    "                if re.search('^.*bin.*$',variable):\n",
    "                    tybin='binary'\n",
    "                if re.search('^.*cat.*$',variable):\n",
    "                    tybin='categorical'\n",
    "                if 'target' in variable:\n",
    "                    tybin = 'binary'\n",
    "                break\n",
    "\n",
    "            \n",
    "        variables.append([variable,ty,tybin])\n",
    "        \n",
    "    variablesdf = pd.DataFrame(variables,columns=['name','type','bin'])\n",
    "    \n",
    "    for i in ['ordinal','continuous','binary','categorical']:\n",
    "        vartype[i]=variablesdf.name[(variablesdf.bin==i)]\n",
    "\n",
    "    # Creating dataframe containing variables\n",
    "    return variablesdf,vartype"
   ]
  },
  {
   "cell_type": "code",
   "execution_count": 5,
   "metadata": {
    "collapsed": true
   },
   "outputs": [],
   "source": [
    "types_var = ['ind','reg','car', 'calc','target','id']\n",
    "variablesdf,vartype = MetaDataTypes(train,types_var)"
   ]
  },
  {
   "cell_type": "markdown",
   "metadata": {},
   "source": [
    "### Treating high cardinality categorical data"
   ]
  },
  {
   "cell_type": "markdown",
   "metadata": {},
   "source": [
    "Using bayesian estimator for highcardinality categorical data ('https://kaggle2.blob.core.windows.net/forum-message-attachments/225952/7441/high%20cardinality%20categoricals.pdf')."
   ]
  },
  {
   "cell_type": "code",
   "execution_count": 6,
   "metadata": {
    "collapsed": true
   },
   "outputs": [],
   "source": [
    "def MICC_CARDINALITY_TRANSFORM(dataframe,target, variables, k=1, f=1,heuristic = False, drop=True):\n",
    "    \n",
    "    def lb_card(n,k,f):\n",
    "        lb = 1/(1+np.exp(-(n-k)/f))\n",
    "        return lb\n",
    "    if type(variables) == str:\n",
    "        variables = [variables]\n",
    "    for variable in variables:\n",
    "        \n",
    "        df = dataframe.copy()\n",
    "        g = pd.DataFrame(df.groupby(variable).count().iloc[:,0]).reset_index()\n",
    "        p = pd.DataFrame(df.groupby(variable).count().iloc[:,0]).reset_index()\n",
    "\n",
    "        if heuristic == True:\n",
    "            k = df[target][df[target]>0].count()/2\n",
    "            f = df[target].count()/10000*5\n",
    "        posterior = pd.DataFrame(df[df[target]>0]\n",
    "                                 .groupby(variable).count().iloc[:,0]).reset_index().iloc[:,-1]/g.iloc[:,-1]\n",
    "        prior = df[df[target]>0].count().iloc[0]/df.count().iloc[0]\n",
    "\n",
    "        variable_tf = lb_card(g.iloc[:,-1],k,f)*posterior + (1-lb_card(g.iloc[:,-1],k,f))*prior\n",
    "\n",
    "        g.iloc[:,-1] = variable_tf.values\n",
    "        g['prior'] = prior\n",
    "        g['posterior'] = posterior\n",
    "\n",
    "        df[variable+'_micc'] = df.merge(g,on=variable,how='left').iloc[:,-1]\n",
    "        \n",
    "        if drop==True:\n",
    "            df.drop(variable,axis=1,inplace=True)\n",
    "    \n",
    "    return df"
   ]
  },
  {
   "cell_type": "code",
   "execution_count": 7,
   "metadata": {
    "collapsed": true
   },
   "outputs": [],
   "source": [
    "def FREQUENCY_CARDINALITY(dataframe,variables,drop=True):\n",
    "    \n",
    "    if type(variables) == str:\n",
    "        variables = [variables]\n",
    "        \n",
    "    for variable in variables:\n",
    "        df = dataframe.copy()\n",
    "        g = pd.DataFrame(df.groupby(variable).count().iloc[:,0]).reset_index()\n",
    "        g.iloc[:,-1] = g.iloc[:,-1]/df.count().iloc[0]\n",
    "        g.iloc[:,-1] = g.sort_values(by=g.columns[-1]).cumsum().iloc[:,-1]\n",
    "        df[variable+'_freq'] = df.merge(g,on=variable,how='left').iloc[:,-1]\n",
    "        \n",
    "        if drop==True:\n",
    "            df.drop(variable,axis=1,inplace=True)\n",
    "    return df"
   ]
  },
  {
   "cell_type": "code",
   "execution_count": 8,
   "metadata": {
    "collapsed": true
   },
   "outputs": [],
   "source": [
    "train_prep = train.copy()"
   ]
  },
  {
   "cell_type": "code",
   "execution_count": 9,
   "metadata": {
    "collapsed": true
   },
   "outputs": [],
   "source": [
    "train_prep = Create_OHE(train_prep,vartype['categorical'].values,6)"
   ]
  },
  {
   "cell_type": "code",
   "execution_count": 11,
   "metadata": {},
   "outputs": [
    {
     "name": "stdout",
     "output_type": "stream",
     "text": [
      "freq ps_ind_05_cat\n",
      "freq ps_car_01_cat\n",
      "freq ps_car_04_cat\n",
      "freq ps_car_06_cat\n",
      "freq ps_car_08_cat\n",
      "freq ps_car_09_cat\n",
      "micci ps_car_11_cat\n"
     ]
    }
   ],
   "source": [
    "limitinf = 6 # the number to consider high cardinality. Variables below will be set with one-hot encoding\n",
    "limitsup = 20 # the number to consider very-high cardinality. Variables above will be set with one-hot encoding\n",
    "\n",
    "for variable in vartype['categorical']:\n",
    "    \n",
    "    if len(pd.unique(train[variable])) < limitinf and len(pd.unique(train[variable])) > 2:\n",
    "        pass\n",
    "        \n",
    "    elif len(pd.unique(train[variable])) < limitsup:\n",
    "        train_prep = FREQUENCY_CARDINALITY(train_prep,variable)\n",
    "        print('freq',variable)\n",
    "        \n",
    "    else:\n",
    "        train_prep = MICC_CARDINALITY_TRANSFORM(train_prep,'target',variable,heuristic=True)\n",
    "        print('micci',variable)\n",
    " "
   ]
  },
  {
   "cell_type": "code",
   "execution_count": 51,
   "metadata": {
    "collapsed": true
   },
   "outputs": [],
   "source": [
    "from xgboost import XGBClassifier\n",
    "\n",
    "# XGBoost params\n",
    "xgb_params = {}\n",
    "# xgb_params['missing'] = -1\n",
    "# xgb_params['learning_rate'] = 0.2\n",
    "# # xgb_params['learning_rate'] = 0.012983377237040745\n",
    "# # xgb_params['n_estimators'] = 75\n",
    "# # xgb_params['n_estimators'] = 750\n",
    "# xgb_params['max_depth'] = 6\n",
    "# xgb_params['reg_alpha'] = 6.037927795611329e-05\n",
    "# xgb_params['reg_lambda'] = 7.3327894939712616e-06\n",
    "# xgb_params['colsample_bytree'] = 0.6013536865241922 \n",
    "# xgb_params['min_child_weight'] = 0.6020963925048413\n",
    "xgb_params['learning_rate'] = 0.02\n",
    "xgb_params['n_estimators'] = 1000\n",
    "xgb_params['max_depth'] = 6\n",
    "xgb_params['subsample'] = 0.9\n",
    "xgb_params['colsample_bytree'] = 0.9  "
   ]
  },
  {
   "cell_type": "code",
   "execution_count": 44,
   "metadata": {
    "collapsed": true
   },
   "outputs": [],
   "source": [
    "XGB_model = XGBClassifier(**xgb_params)"
   ]
  },
  {
   "cell_type": "code",
   "execution_count": 48,
   "metadata": {
    "collapsed": true
   },
   "outputs": [],
   "source": [
    "X = train_prep.drop('target',axis=1)\n",
    "y = train_prep['target']\n",
    "# X = train.drop('target',axis=1)\n",
    "# y = train['target']"
   ]
  },
  {
   "cell_type": "code",
   "execution_count": 49,
   "metadata": {
    "collapsed": true
   },
   "outputs": [],
   "source": [
    "# Code from https://github.com/felipeeeantunes/udacity_live\n",
    "# The comments are mine\n",
    "def cross_val_model(X,y, model, n_splits=3):\n",
    "    from sklearn.model_selection import StratifiedKFold\n",
    "    from sklearn.model_selection import cross_val_score\n",
    "    X = np.array(X)\n",
    "    y = np.array(y)\n",
    "\n",
    "\n",
    "    folds = list(StratifiedKFold(n_splits=n_splits, shuffle=True, random_state=2017).split(X, y))\n",
    "    # folds are a list of the indexes that were divided in the training subsection and the hold-out.\n",
    "\n",
    "    for j, (train_idx, test_idx) in enumerate(folds):\n",
    "        X_train = X[train_idx] #train_idx are the indexes of the training subset\n",
    "        y_train = y[train_idx] \n",
    "        X_holdout = X[test_idx]\n",
    "        y_holdout = y[test_idx]\n",
    "\n",
    "        print (\"Fit %s fold %d\" % (str(model).split('(')[0], j+1))\n",
    "        \n",
    "        cross_score = cross_val_score(model, X_holdout, y_holdout, cv=3, scoring='roc_auc')\n",
    "        print(\"    cross_score: %.5f\" % cross_score.mean())\n",
    "#     model.fit(X_train, y_train)"
   ]
  },
  {
   "cell_type": "code",
   "execution_count": 50,
   "metadata": {},
   "outputs": [
    {
     "name": "stdout",
     "output_type": "stream",
     "text": [
      "Fit XGBClassifier fold 1\n",
      "    cross_score: 0.58049\n",
      "Fit XGBClassifier fold 2\n",
      "    cross_score: 0.54434\n",
      "Fit XGBClassifier fold 3\n",
      "    cross_score: 0.52947\n"
     ]
    }
   ],
   "source": [
    "cross_val_model(X,y,XGB_model)"
   ]
  },
  {
   "cell_type": "code",
   "execution_count": 37,
   "metadata": {},
   "outputs": [
    {
     "data": {
      "text/plain": [
       "XGBClassifier(base_score=0.5, colsample_bylevel=1,\n",
       "       colsample_bytree=0.6013536865241922, gamma=0,\n",
       "       learning_rate=0.012983377237040745, max_delta_step=0, max_depth=6,\n",
       "       min_child_weight=0.6020963925048413, missing=-1, n_estimators=750,\n",
       "       nthread=-1, objective='binary:logistic',\n",
       "       reg_alpha=6.037927795611329e-05, reg_lambda=7.3327894939712616e-06,\n",
       "       scale_pos_weight=1, seed=0, silent=True, subsample=1)"
      ]
     },
     "execution_count": 37,
     "metadata": {},
     "output_type": "execute_result"
    }
   ],
   "source": [
    "XGB_model.fit(np.array(X),np.array(y))"
   ]
  },
  {
   "cell_type": "code",
   "execution_count": 25,
   "metadata": {
    "collapsed": true
   },
   "outputs": [],
   "source": [
    "from sklearn.metrics import roc_auc_score\n",
    "from sklearn.metrics import roc_curve"
   ]
  },
  {
   "cell_type": "code",
   "execution_count": 36,
   "metadata": {},
   "outputs": [
    {
     "name": "stdout",
     "output_type": "stream",
     "text": [
      "0.391363545022\n"
     ]
    }
   ],
   "source": [
    "y_scores = XGB_model.predict_proba(np.array(X))[:,1]\n",
    "print(2*roc_auc_score(y, y_scores)-1)"
   ]
  },
  {
   "cell_type": "code",
   "execution_count": 32,
   "metadata": {
    "collapsed": true
   },
   "outputs": [],
   "source": [
    "results = pd.DataFrame(data=y_scores,columns=['score'])\n",
    "results['target'] = y\n",
    "results['targetpredict'] = results.score.apply(lambda x: 0 if x<0.1 else 1)"
   ]
  },
  {
   "cell_type": "code",
   "execution_count": 33,
   "metadata": {},
   "outputs": [
    {
     "data": {
      "text/plain": [
       "<matplotlib.axes._subplots.AxesSubplot at 0x7f9656674358>"
      ]
     },
     "execution_count": 33,
     "metadata": {},
     "output_type": "execute_result"
    },
    {
     "data": {
      "image/png": "[encoded data removed]",
      "text/plain": [
       "<matplotlib.figure.Figure at 0x7f96580dc128>"
      ]
     },
     "metadata": {},
     "output_type": "display_data"
    }
   ],
   "source": [
    "sns.distplot(results.score[results.target == 1],norm_hist=True,kde=False)\n",
    "sns.distplot(results.score[results.target == 0],norm_hist=True,kde=False)"
   ]
  },
  {
   "cell_type": "code",
   "execution_count": null,
   "metadata": {
    "collapsed": true
   },
   "outputs": [],
   "source": []
  }
 ],
 "metadata": {
  "kernelspec": {
   "display_name": "Python (machinepy3)",
   "language": "python",
   "name": "machinepy3"
  },
  "language_info": {
   "codemirror_mode": {
    "name": "ipython",
    "version": 3
   },
   "file_extension": ".py",
   "mimetype": "text/x-python",
   "name": "python",
   "nbconvert_exporter": "python",
   "pygments_lexer": "ipython3",
   "version": "3.5.2"
  }
 },
 "nbformat": 4,
 "nbformat_minor": 2
}
